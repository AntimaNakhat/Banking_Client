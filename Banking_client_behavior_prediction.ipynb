{
  "nbformat": 4,
  "nbformat_minor": 0,
  "metadata": {
    "colab": {
      "provenance": []
    },
    "kernelspec": {
      "name": "python3",
      "display_name": "Python 3"
    },
    "language_info": {
      "name": "python"
    }
  },
  "cells": [
    {
      "cell_type": "markdown",
      "source": [
        "#### URL for the dataset"
      ],
      "metadata": {
        "id": "ot6W_0_BXXOb"
      }
    },
    {
      "cell_type": "code",
      "execution_count": null,
      "metadata": {
        "colab": {
          "base_uri": "https://localhost:8080/"
        },
        "id": "N_AygkBoU7H7",
        "outputId": "8a3869e9-d0bf-4f1c-a993-92b93270a5ea"
      },
      "outputs": [
        {
          "output_type": "stream",
          "name": "stdout",
          "text": [
            "--2025-03-29 03:26:58--  https://cf-courses-data.s3.us.cloud-object-storage.appdomain.cloud/VDA_Banking_L2/bank-additional.zip\n",
            "Resolving cf-courses-data.s3.us.cloud-object-storage.appdomain.cloud (cf-courses-data.s3.us.cloud-object-storage.appdomain.cloud)... 198.23.119.245\n",
            "Connecting to cf-courses-data.s3.us.cloud-object-storage.appdomain.cloud (cf-courses-data.s3.us.cloud-object-storage.appdomain.cloud)|198.23.119.245|:443... connected.\n",
            "HTTP request sent, awaiting response... 200 OK\n",
            "Length: 444572 (434K) [application/zip]\n",
            "Saving to: ‘bank-additional.zip’\n",
            "\n",
            "bank-additional.zip 100%[===================>] 434.15K  --.-KB/s    in 0.08s   \n",
            "\n",
            "2025-03-29 03:26:59 (5.58 MB/s) - ‘bank-additional.zip’ saved [444572/444572]\n",
            "\n"
          ]
        }
      ],
      "source": [
        "!wget https://cf-courses-data.s3.us.cloud-object-storage.appdomain.cloud/VDA_Banking_L2/bank-additional.zip"
      ]
    },
    {
      "cell_type": "markdown",
      "source": [
        "#### Unzipping to a folder. It is a good idea to apply the -o and -q when unzipping to quiet the process and overwrite any existing folders."
      ],
      "metadata": {
        "id": "OUwMVGdDXbgV"
      }
    },
    {
      "cell_type": "code",
      "source": [
        "!unzip -o -q bank-additional.zip"
      ],
      "metadata": {
        "id": "23DwWOe-U788"
      },
      "execution_count": null,
      "outputs": []
    },
    {
      "cell_type": "markdown",
      "source": [
        "### Import the libraries necessary to use"
      ],
      "metadata": {
        "id": "5Fwpty1dXssm"
      }
    },
    {
      "cell_type": "code",
      "source": [
        "import pandas as pd\n",
        "import matplotlib.pyplot as plt\n",
        "import seaborn as sns\n",
        "import numpy as np\n",
        "%matplotlib inline\n",
        "plt.rcParams[\"figure.figsize\"] = (8, 6)\n",
        "# Data transformation\n",
        "from sklearn.preprocessing import LabelEncoder, OrdinalEncoder\n",
        "from sklearn.preprocessing import MinMaxScaler\n",
        "# Features Selection\n",
        "from sklearn.feature_selection import SelectKBest\n",
        "from sklearn.feature_selection import chi2, mutual_info_classif\n",
        "# warnings deactivate\n",
        "import warnings\n",
        "warnings.filterwarnings('ignore')"
      ],
      "metadata": {
        "id": "cWA6mxaFVDy5"
      },
      "execution_count": null,
      "outputs": []
    },
    {
      "cell_type": "markdown",
      "source": [
        "#### precision parameter equal to 2 to display two decimal signs (instead of 6 as default)."
      ],
      "metadata": {
        "id": "DcbpWXhkYAxY"
      }
    },
    {
      "source": [
        "pd.set_option(\"display.precision\", 2)\n",
        "pd.options.display.float_format = '{:.2f}'.format"
      ],
      "cell_type": "code",
      "metadata": {
        "id": "7FmDDoxWVaaM"
      },
      "execution_count": null,
      "outputs": []
    },
    {
      "cell_type": "markdown",
      "source": [
        "### DataSet preparation"
      ],
      "metadata": {
        "id": "rFVjkPAlYJA9"
      }
    },
    {
      "cell_type": "code",
      "source": [
        "df = pd.read_csv('bank-additional/bank-additional-full.csv', sep = ';')\n",
        "# Transform to categorical data\n",
        "col_cat = list(df.select_dtypes(include=['object']).columns)\n",
        "df.loc[:, col_cat] = df[col_cat].astype('category')\n",
        "# Create DataSets\n",
        "X = df.iloc[:,:-1]  #input columns\n",
        "y = df.iloc[:,-1]    #target column\n",
        "# Encoding\n",
        "col_cat.pop()\n",
        "oe = OrdinalEncoder()\n",
        "oe.fit(X[col_cat])\n",
        "X_cat_enc = oe.transform(X[col_cat])\n",
        "X_cat_enc = pd.DataFrame(X_cat_enc)\n",
        "X_cat_enc.columns = col_cat\n",
        "# Normalization\n",
        "col_num = list(df.select_dtypes(include =['int64', 'float64']).columns)\n",
        "scaler = MinMaxScaler(feature_range=(0, 1))\n",
        "X_num_enc = scaler.fit_transform(X[col_num])\n",
        "X_num_enc = pd.DataFrame(X_num_enc)\n",
        "X_num_enc.columns = col_num\n",
        "x_enc = pd.concat([X_cat_enc, X_num_enc], axis=1)\n",
        "# Encoding target\n",
        "le = LabelEncoder()\n",
        "le.fit(y)\n",
        "y_enc = le.transform(y)\n",
        "y_enc = pd.Series(y_enc)\n",
        "y_enc.columns = y.name\n",
        "# Remove correlated fields\n",
        "col = list(x_enc.columns)\n",
        "col.remove('emp.var.rate')\n",
        "col.remove('nr.employed')\n",
        "x_enc = x_enc[col]\n",
        "# Feature selection\n",
        "bestfeatures = SelectKBest(score_func=chi2, k=10)\n",
        "fit = bestfeatures.fit(x_enc,y_enc)\n",
        "dfscores = pd.DataFrame(fit.scores_)\n",
        "dfcolumns = pd.DataFrame(x_enc.columns)\n",
        "featureScores = pd.concat([dfcolumns, dfscores],axis=1)\n",
        "featureScores.columns = ['Specs','Score']  #naming the dataframe columns\n",
        "x_enc = x_enc[list(featureScores.nlargest(10,'Score')['Specs'])]\n",
        "print(x_enc)\n",
        "print(y_enc)"
      ],
      "metadata": {
        "colab": {
          "base_uri": "https://localhost:8080/"
        },
        "id": "7dHRseUmVUY3",
        "outputId": "eef61833-9620-40f2-bc3e-1ad9dbf223a3"
      },
      "execution_count": null,
      "outputs": [
        {
          "output_type": "stream",
          "name": "stdout",
          "text": [
            "       euribor3m  contact  previous  duration  default  education  pdays  \\\n",
            "0           0.96     1.00      0.00      0.05     0.00       0.00   1.00   \n",
            "1           0.96     1.00      0.00      0.03     1.00       3.00   1.00   \n",
            "2           0.96     1.00      0.00      0.05     0.00       3.00   1.00   \n",
            "3           0.96     1.00      0.00      0.03     0.00       1.00   1.00   \n",
            "4           0.96     1.00      0.00      0.06     0.00       3.00   1.00   \n",
            "...          ...      ...       ...       ...      ...        ...    ...   \n",
            "41183       0.09     0.00      0.00      0.07     0.00       5.00   1.00   \n",
            "41184       0.09     0.00      0.00      0.08     0.00       5.00   1.00   \n",
            "41185       0.09     0.00      0.00      0.04     0.00       6.00   1.00   \n",
            "41186       0.09     0.00      0.00      0.09     0.00       5.00   1.00   \n",
            "41187       0.09     0.00      0.14      0.05     0.00       5.00   1.00   \n",
            "\n",
            "       poutcome  job  cons.price.idx  \n",
            "0          1.00 3.00            0.70  \n",
            "1          1.00 7.00            0.70  \n",
            "2          1.00 7.00            0.70  \n",
            "3          1.00 0.00            0.70  \n",
            "4          1.00 7.00            0.70  \n",
            "...         ...  ...             ...  \n",
            "41183      1.00 5.00            1.00  \n",
            "41184      1.00 1.00            1.00  \n",
            "41185      1.00 5.00            1.00  \n",
            "41186      1.00 9.00            1.00  \n",
            "41187      0.00 5.00            1.00  \n",
            "\n",
            "[41188 rows x 10 columns]\n",
            "0        0\n",
            "1        0\n",
            "2        0\n",
            "3        0\n",
            "4        0\n",
            "        ..\n",
            "41183    1\n",
            "41184    0\n",
            "41185    0\n",
            "41186    1\n",
            "41187    0\n",
            "Length: 41188, dtype: int64\n"
          ]
        }
      ]
    },
    {
      "cell_type": "markdown",
      "source": [
        "### Classical classification models\n",
        "\n"
      ],
      "metadata": {
        "id": "FeE6N3AXrcOP"
      }
    },
    {
      "cell_type": "code",
      "source": [
        "#Classifiers\n",
        "from sklearn.linear_model import LogisticRegression\n",
        "from sklearn.ensemble import RandomForestClassifier, AdaBoostClassifier\n",
        "from sklearn.naive_bayes import GaussianNB\n",
        "from sklearn.discriminant_analysis import QuadraticDiscriminantAnalysis\n",
        "from sklearn.model_selection import cross_val_score\n",
        "from sklearn.ensemble import VotingClassifier\n",
        "from sklearn.model_selection import train_test_split\n",
        "from sklearn.metrics import confusion_matrix"
      ],
      "metadata": {
        "id": "8aQP61qfVm94"
      },
      "execution_count": null,
      "outputs": []
    },
    {
      "cell_type": "code",
      "source": [
        "clf = LogisticRegression()\n",
        "scores = cross_val_score(clf, x_enc, y_enc, scoring='accuracy', cv=5)\n",
        "print(\"Accuracy: %0.2f (+/- %0.2f) [%s]\" % (scores.mean(), scores.std(), 'Logistic Regression'))"
      ],
      "metadata": {
        "colab": {
          "base_uri": "https://localhost:8080/"
        },
        "id": "byg7s2GRsGJq",
        "outputId": "c1b053fb-c1a2-4664-c0b4-ccf75c65d292"
      },
      "execution_count": null,
      "outputs": [
        {
          "output_type": "stream",
          "name": "stdout",
          "text": [
            "Accuracy: 0.87 (+/- 0.06) [Logistic Regression]\n"
          ]
        }
      ]
    },
    {
      "cell_type": "code",
      "source": [
        "clf_name = ['Logistic Regression']\n",
        "clf_acc = [scores.mean()]"
      ],
      "metadata": {
        "id": "u6ccIfdTsua-"
      },
      "execution_count": null,
      "outputs": []
    },
    {
      "cell_type": "markdown",
      "source": [
        "As you can see, accuracy is not bad.\n",
        "\n",
        "Let's try to use another classificators and compare thair accuracy."
      ],
      "metadata": {
        "id": "HwyTW_1Ms5oE"
      }
    },
    {
      "cell_type": "code",
      "source": [
        "clf1 = LogisticRegression(random_state=1)\n",
        "clf2 = QuadraticDiscriminantAnalysis()\n",
        "clf3 = GaussianNB()\n",
        "clf4 = RandomForestClassifier(max_depth=5, n_estimators=10, max_features=1)\n",
        "clf5 = AdaBoostClassifier()\n",
        "\n",
        "for clf, label in zip([clf1, clf2, clf3, clf4, clf5], ['Logistic Regression', 'Quadratic Discriminant Analysis', 'naive Bayes', 'Random Forest', 'Ada Boost']):\n",
        "     scores = cross_val_score(clf, x_enc, y_enc, scoring='accuracy', cv=5)\n",
        "     print(\"Accuracy: %0.2f (+/- %0.2f) [%s]\" % (scores.mean(), scores.std(), label))"
      ],
      "metadata": {
        "colab": {
          "base_uri": "https://localhost:8080/"
        },
        "id": "V3QpdbRDsxIJ",
        "outputId": "ca83f91d-6f10-4979-a608-6454356f7c1d"
      },
      "execution_count": null,
      "outputs": [
        {
          "output_type": "stream",
          "name": "stdout",
          "text": [
            "Accuracy: 0.87 (+/- 0.06) [Logistic Regression]\n",
            "Accuracy: 0.83 (+/- 0.13) [Quadratic Discriminant Analysis]\n",
            "Accuracy: 0.80 (+/- 0.15) [naive Bayes]\n",
            "Accuracy: 0.66 (+/- 0.27) [Random Forest]\n",
            "Accuracy: 0.67 (+/- 0.29) [Ada Boost]\n"
          ]
        }
      ]
    },
    {
      "cell_type": "markdown",
      "source": [
        "### Ensemble of classical classification models"
      ],
      "metadata": {
        "id": "oD9cN_CRtGJH"
      }
    },
    {
      "cell_type": "code",
      "source": [
        "eclf = VotingClassifier(\n",
        "     estimators=[('lr', clf1), ('rf', clf2), ('gnb', clf3), ('rfc', clf4), ('abc', clf5)],\n",
        "     voting='hard')\n",
        "scores = cross_val_score(eclf, x_enc, y_enc, scoring='accuracy', cv=5)\n",
        "print(\"Accuracy: %0.2f (+/- %0.2f) [%s]\" % (scores.mean(), scores.std(), 'Hard Voiting Ensemble'))"
      ],
      "metadata": {
        "colab": {
          "base_uri": "https://localhost:8080/"
        },
        "id": "yTzv-a8Us-gR",
        "outputId": "252a8fba-6b7e-4070-9bbf-2f25b983f74d"
      },
      "execution_count": null,
      "outputs": [
        {
          "output_type": "stream",
          "name": "stdout",
          "text": [
            "Accuracy: 0.81 (+/- 0.15) [Hard Voiting Ensemble]\n"
          ]
        }
      ]
    },
    {
      "cell_type": "code",
      "source": [
        "clf_name.append('Hard Voiting Ensemble')\n",
        "clf_acc.append(scores.mean())"
      ],
      "metadata": {
        "id": "2I-trzkztQtt"
      },
      "execution_count": null,
      "outputs": []
    },
    {
      "cell_type": "code",
      "source": [
        "eclf = VotingClassifier(estimators=[('lr', clf1), ('rf', clf2), ('gnb', clf3), ('rfc', clf4), ('abc', clf5)],\n",
        "     voting='soft', weights=[0.87, 0.83, 0.80, 0.74, 0.61 ])\n",
        "\n",
        "scores = cross_val_score(eclf, x_enc, y_enc, scoring='accuracy', cv=5)\n",
        "print(\"Accuracy: %0.2f (+/- %0.2f) [%s]\" % (scores.mean(), scores.std(), 'Soft Voiting Ensemble'))"
      ],
      "metadata": {
        "colab": {
          "base_uri": "https://localhost:8080/"
        },
        "id": "Tkf6yVxHtTHh",
        "outputId": "82090e01-71bd-465c-cd74-450a4c77ec4d"
      },
      "execution_count": null,
      "outputs": [
        {
          "output_type": "stream",
          "name": "stdout",
          "text": [
            "Accuracy: 0.82 (+/- 0.15) [Soft Voiting Ensemble]\n"
          ]
        }
      ]
    },
    {
      "cell_type": "code",
      "source": [
        "clf_name.append('Soft Voiting Ensemble')\n",
        "clf_acc.append(scores.mean())"
      ],
      "metadata": {
        "id": "MK4bOUi4tWNT"
      },
      "execution_count": null,
      "outputs": []
    },
    {
      "cell_type": "markdown",
      "source": [
        "### Analysis of errors"
      ],
      "metadata": {
        "id": "EfXpO0y4uwNf"
      }
    },
    {
      "cell_type": "code",
      "source": [
        "X_train, X_test, y_train, y_test = train_test_split(x_enc, y_enc, test_size=0.33, random_state=1)\n",
        "eclf.fit(X_train, y_train)\n",
        "yhat = eclf.predict(X_test)"
      ],
      "metadata": {
        "id": "5-lbNyshur3U"
      },
      "execution_count": null,
      "outputs": []
    },
    {
      "cell_type": "code",
      "source": [
        "scores_train = eclf.score(X_train, y_train)\n",
        "scores_test = eclf.score(X_test, y_test)\n",
        "print('Training DataSet accuracy: {: .1%}'.format(scores_train), 'Test DataSet accuracy: {: .1%}'.format(scores_test))\n",
        "y_pred = eclf.predict(X_test)  # Get model predictions\n",
        "cm = confusion_matrix(y_test, y_pred)\n",
        "print(cm)\n",
        "plt.show()"
      ],
      "metadata": {
        "colab": {
          "base_uri": "https://localhost:8080/"
        },
        "id": "wjaaANUau2pw",
        "outputId": "21105719-804c-4f00-9113-08c814a99b1b"
      },
      "execution_count": null,
      "outputs": [
        {
          "output_type": "stream",
          "name": "stdout",
          "text": [
            "Training DataSet accuracy:  89.8% Test DataSet accuracy:  89.9%\n",
            "[[11615   434]\n",
            " [  940   604]]\n"
          ]
        }
      ]
    },
    {
      "cell_type": "markdown",
      "source": [
        "### Classification with Keras"
      ],
      "metadata": {
        "id": "4OC98y-Bv7hn"
      }
    },
    {
      "source": [
        "!pip install scikeras\n",
        "from keras.models import Sequential\n",
        "from keras.layers import Dense\n",
        "from scikeras.wrappers import KerasClassifier\n",
        "from tensorflow.keras.utils import to_categorical\n",
        "\n",
        "# define baseline model\n",
        "def baseline_model():\n",
        "    # create model\n",
        "    model = Sequential()\n",
        "    model.add(Dense(20, input_dim=10, activation='relu'))\n",
        "    model.add(Dense(2, activation='softmax'))  # Output layer with 2 units for 2 classes\n",
        "    # Compile model\n",
        "    model.compile(loss='categorical_crossentropy', optimizer='adam', metrics=['accuracy'])\n",
        "    return model\n",
        "\n",
        "\n"
      ],
      "cell_type": "code",
      "metadata": {
        "colab": {
          "base_uri": "https://localhost:8080/"
        },
        "id": "zU4c0YiyE26w",
        "outputId": "2e1fe02c-29d3-4081-fb19-add76629db11"
      },
      "execution_count": null,
      "outputs": [
        {
          "output_type": "stream",
          "name": "stdout",
          "text": [
            "Collecting scikeras\n",
            "  Downloading scikeras-0.13.0-py3-none-any.whl.metadata (3.1 kB)\n",
            "Requirement already satisfied: keras>=3.2.0 in /usr/local/lib/python3.11/dist-packages (from scikeras) (3.8.0)\n",
            "Requirement already satisfied: scikit-learn>=1.4.2 in /usr/local/lib/python3.11/dist-packages (from scikeras) (1.6.1)\n",
            "Requirement already satisfied: absl-py in /usr/local/lib/python3.11/dist-packages (from keras>=3.2.0->scikeras) (1.4.0)\n",
            "Requirement already satisfied: numpy in /usr/local/lib/python3.11/dist-packages (from keras>=3.2.0->scikeras) (2.0.2)\n",
            "Requirement already satisfied: rich in /usr/local/lib/python3.11/dist-packages (from keras>=3.2.0->scikeras) (13.9.4)\n",
            "Requirement already satisfied: namex in /usr/local/lib/python3.11/dist-packages (from keras>=3.2.0->scikeras) (0.0.8)\n",
            "Requirement already satisfied: h5py in /usr/local/lib/python3.11/dist-packages (from keras>=3.2.0->scikeras) (3.13.0)\n",
            "Requirement already satisfied: optree in /usr/local/lib/python3.11/dist-packages (from keras>=3.2.0->scikeras) (0.14.1)\n",
            "Requirement already satisfied: ml-dtypes in /usr/local/lib/python3.11/dist-packages (from keras>=3.2.0->scikeras) (0.4.1)\n",
            "Requirement already satisfied: packaging in /usr/local/lib/python3.11/dist-packages (from keras>=3.2.0->scikeras) (24.2)\n",
            "Requirement already satisfied: scipy>=1.6.0 in /usr/local/lib/python3.11/dist-packages (from scikit-learn>=1.4.2->scikeras) (1.14.1)\n",
            "Requirement already satisfied: joblib>=1.2.0 in /usr/local/lib/python3.11/dist-packages (from scikit-learn>=1.4.2->scikeras) (1.4.2)\n",
            "Requirement already satisfied: threadpoolctl>=3.1.0 in /usr/local/lib/python3.11/dist-packages (from scikit-learn>=1.4.2->scikeras) (3.6.0)\n",
            "Requirement already satisfied: typing-extensions>=4.5.0 in /usr/local/lib/python3.11/dist-packages (from optree->keras>=3.2.0->scikeras) (4.12.2)\n",
            "Requirement already satisfied: markdown-it-py>=2.2.0 in /usr/local/lib/python3.11/dist-packages (from rich->keras>=3.2.0->scikeras) (3.0.0)\n",
            "Requirement already satisfied: pygments<3.0.0,>=2.13.0 in /usr/local/lib/python3.11/dist-packages (from rich->keras>=3.2.0->scikeras) (2.18.0)\n",
            "Requirement already satisfied: mdurl~=0.1 in /usr/local/lib/python3.11/dist-packages (from markdown-it-py>=2.2.0->rich->keras>=3.2.0->scikeras) (0.1.2)\n",
            "Downloading scikeras-0.13.0-py3-none-any.whl (26 kB)\n",
            "Installing collected packages: scikeras\n",
            "Successfully installed scikeras-0.13.0\n"
          ]
        }
      ]
    },
    {
      "source": [
        "estimator = KerasClassifier(build_fn=baseline_model, epochs=10, batch_size=5, verbose=1)\n",
        "# Convert y_train to one-hot encoding using to_categorical\n",
        "history = estimator.fit(X_train, to_categorical(y_train))"
      ],
      "cell_type": "code",
      "metadata": {
        "colab": {
          "base_uri": "https://localhost:8080/"
        },
        "id": "yKCYHxmYEVBk",
        "outputId": "529e84d3-8568-4455-8ce9-819544e6b7b6"
      },
      "execution_count": null,
      "outputs": [
        {
          "output_type": "stream",
          "name": "stdout",
          "text": [
            "Epoch 1/10\n",
            "\u001b[1m5519/5519\u001b[0m \u001b[32m━━━━━━━━━━━━━━━━━━━━\u001b[0m\u001b[37m\u001b[0m \u001b[1m29s\u001b[0m 5ms/step - accuracy: 0.8721 - loss: 0.3470\n",
            "Epoch 2/10\n",
            "\u001b[1m5519/5519\u001b[0m \u001b[32m━━━━━━━━━━━━━━━━━━━━\u001b[0m\u001b[37m\u001b[0m \u001b[1m21s\u001b[0m 4ms/step - accuracy: 0.9059 - loss: 0.2343\n",
            "Epoch 3/10\n",
            "\u001b[1m5519/5519\u001b[0m \u001b[32m━━━━━━━━━━━━━━━━━━━━\u001b[0m\u001b[37m\u001b[0m \u001b[1m33s\u001b[0m 2ms/step - accuracy: 0.9084 - loss: 0.2209\n",
            "Epoch 4/10\n",
            "\u001b[1m5519/5519\u001b[0m \u001b[32m━━━━━━━━━━━━━━━━━━━━\u001b[0m\u001b[37m\u001b[0m \u001b[1m13s\u001b[0m 2ms/step - accuracy: 0.9086 - loss: 0.2191\n",
            "Epoch 5/10\n",
            "\u001b[1m5519/5519\u001b[0m \u001b[32m━━━━━━━━━━━━━━━━━━━━\u001b[0m\u001b[37m\u001b[0m \u001b[1m13s\u001b[0m 2ms/step - accuracy: 0.9062 - loss: 0.2198\n",
            "Epoch 6/10\n",
            "\u001b[1m5519/5519\u001b[0m \u001b[32m━━━━━━━━━━━━━━━━━━━━\u001b[0m\u001b[37m\u001b[0m \u001b[1m13s\u001b[0m 2ms/step - accuracy: 0.9048 - loss: 0.2136\n",
            "Epoch 7/10\n",
            "\u001b[1m5519/5519\u001b[0m \u001b[32m━━━━━━━━━━━━━━━━━━━━\u001b[0m\u001b[37m\u001b[0m \u001b[1m20s\u001b[0m 2ms/step - accuracy: 0.9120 - loss: 0.2041\n",
            "Epoch 8/10\n",
            "\u001b[1m5519/5519\u001b[0m \u001b[32m━━━━━━━━━━━━━━━━━━━━\u001b[0m\u001b[37m\u001b[0m \u001b[1m12s\u001b[0m 2ms/step - accuracy: 0.9080 - loss: 0.2085\n",
            "Epoch 9/10\n",
            "\u001b[1m5519/5519\u001b[0m \u001b[32m━━━━━━━━━━━━━━━━━━━━\u001b[0m\u001b[37m\u001b[0m \u001b[1m20s\u001b[0m 2ms/step - accuracy: 0.9045 - loss: 0.2087\n",
            "Epoch 10/10\n",
            "\u001b[1m5519/5519\u001b[0m \u001b[32m━━━━━━━━━━━━━━━━━━━━\u001b[0m\u001b[37m\u001b[0m \u001b[1m12s\u001b[0m 2ms/step - accuracy: 0.9091 - loss: 0.2063\n"
          ]
        }
      ]
    },
    {
      "cell_type": "code",
      "source": [
        "acc = estimator.history_['accuracy']\n",
        "loss = estimator.history_['loss']\n",
        "\n",
        "epochs_range = range(10)\n",
        "\n",
        "plt.figure(figsize=(15, 15))\n",
        "plt.subplot(2, 2, 1)\n",
        "plt.plot(epochs_range, acc, label='Training Accuracy')\n",
        "plt.legend(loc='lower right')\n",
        "plt.title('Training Accuracy')\n",
        "\n",
        "plt.subplot(2, 2, 2)\n",
        "plt.plot(epochs_range, loss, label='Training Loss')\n",
        "plt.legend(loc='upper right')\n",
        "plt.title('Training Loss')\n",
        "plt.show()"
      ],
      "metadata": {
        "colab": {
          "base_uri": "https://localhost:8080/",
          "height": 608
        },
        "id": "GiCZII5tELOV",
        "outputId": "a109d89b-82a1-44c6-c183-a0f0285d0d5f"
      },
      "execution_count": null,
      "outputs": [
        {
          "output_type": "display_data",
          "data": {
            "text/plain": [
              "<Figure size 1500x1500 with 2 Axes>"
            ],
            "image/png": "[encoded data removed]"
          },
          "metadata": {}
        }
      ]
    },
    {
      "cell_type": "code",
      "source": [
        "from sklearn.metrics import accuracy_score"
      ],
      "metadata": {
        "id": "hR3kzX2_FAkf"
      },
      "execution_count": null,
      "outputs": []
    },
    {
      "source": [
        "yhat = estimator.predict(X_test)\n",
        "# Convert yhat to binary labels\n",
        "yhat = np.argmax(yhat, axis=1) # Get the index of the highest probability\n",
        "accuracy = accuracy_score(y_test, yhat)\n",
        "print('Accuracy: %.2f' % (accuracy))"
      ],
      "cell_type": "code",
      "metadata": {
        "colab": {
          "base_uri": "https://localhost:8080/"
        },
        "id": "Wto4N-o9F8pe",
        "outputId": "f15b0222-a69b-4320-9b0b-999a804677fe"
      },
      "execution_count": null,
      "outputs": [
        {
          "output_type": "stream",
          "name": "stdout",
          "text": [
            "\u001b[1m2719/2719\u001b[0m \u001b[32m━━━━━━━━━━━━━━━━━━━━\u001b[0m\u001b[37m\u001b[0m \u001b[1m7s\u001b[0m 3ms/step\n",
            "Accuracy: 0.91\n"
          ]
        }
      ]
    },
    {
      "cell_type": "code",
      "source": [
        "#clf_name.append('KerasClassifier')\n",
        "#clf_acc.append(accuracy)"
      ],
      "metadata": {
        "id": "7RMeAPBnGJ4U"
      },
      "execution_count": null,
      "outputs": []
    },
    {
      "cell_type": "markdown",
      "source": [
        "### Own Keras ensemble classificator"
      ],
      "metadata": {
        "id": "LgpjgBtJHiNb"
      }
    },
    {
      "cell_type": "code",
      "source": [
        "n_members = 3\n",
        "members = list()\n",
        "for i in range(n_members):\n",
        "    # fit model\n",
        "    model = KerasClassifier(build_fn=baseline_model, epochs=10, batch_size=5, verbose=1)\n",
        "    # Fit the model using the categorical target variable\n",
        "    model.fit(X_train, y_train_categorical)\n",
        "    members.append(model)"
      ],
      "metadata": {
        "colab": {
          "base_uri": "https://localhost:8080/",
          "height": 200
        },
        "id": "RfFSDpnYGr5B",
        "outputId": "61096b3b-8ab7-484c-e208-908806bc9457"
      },
      "execution_count": null,
      "outputs": [
        {
          "output_type": "error",
          "ename": "NameError",
          "evalue": "name 'y_train_categorical' is not defined",
          "traceback": [
            "\u001b[0;31m---------------------------------------------------------------------------\u001b[0m",
            "\u001b[0;31mNameError\u001b[0m                                 Traceback (most recent call last)",
            "\u001b[0;32m<ipython-input-22-65d4df017d96>\u001b[0m in \u001b[0;36m<cell line: 0>\u001b[0;34m()\u001b[0m\n\u001b[1;32m      5\u001b[0m     \u001b[0mmodel\u001b[0m \u001b[0;34m=\u001b[0m \u001b[0mKerasClassifier\u001b[0m\u001b[0;34m(\u001b[0m\u001b[0mbuild_fn\u001b[0m\u001b[0;34m=\u001b[0m\u001b[0mbaseline_model\u001b[0m\u001b[0;34m,\u001b[0m \u001b[0mepochs\u001b[0m\u001b[0;34m=\u001b[0m\u001b[0;36m10\u001b[0m\u001b[0;34m,\u001b[0m \u001b[0mbatch_size\u001b[0m\u001b[0;34m=\u001b[0m\u001b[0;36m5\u001b[0m\u001b[0;34m,\u001b[0m \u001b[0mverbose\u001b[0m\u001b[0;34m=\u001b[0m\u001b[0;36m1\u001b[0m\u001b[0;34m)\u001b[0m\u001b[0;34m\u001b[0m\u001b[0;34m\u001b[0m\u001b[0m\n\u001b[1;32m      6\u001b[0m     \u001b[0;31m# Fit the model using the categorical target variable\u001b[0m\u001b[0;34m\u001b[0m\u001b[0;34m\u001b[0m\u001b[0m\n\u001b[0;32m----> 7\u001b[0;31m     \u001b[0mmodel\u001b[0m\u001b[0;34m.\u001b[0m\u001b[0mfit\u001b[0m\u001b[0;34m(\u001b[0m\u001b[0mX_train\u001b[0m\u001b[0;34m,\u001b[0m \u001b[0my_train_categorical\u001b[0m\u001b[0;34m)\u001b[0m\u001b[0;34m\u001b[0m\u001b[0;34m\u001b[0m\u001b[0m\n\u001b[0m\u001b[1;32m      8\u001b[0m     \u001b[0mmembers\u001b[0m\u001b[0;34m.\u001b[0m\u001b[0mappend\u001b[0m\u001b[0;34m(\u001b[0m\u001b[0mmodel\u001b[0m\u001b[0;34m)\u001b[0m\u001b[0;34m\u001b[0m\u001b[0;34m\u001b[0m\u001b[0m\n",
            "\u001b[0;31mNameError\u001b[0m: name 'y_train_categorical' is not defined"
          ]
        }
      ]
    },
    {
      "cell_type": "code",
      "source": [
        "# evaluate standalone models on test dataset\n",
        "from sklearn.metrics import accuracy_score\n",
        "for model in members:\n",
        "    # Predict probabilities and then select the class with highest probability\n",
        "    yhat_prob = model.predict(X_test)\n",
        "    yhat = np.argmax(yhat_prob, axis=1)  # Get class labels (0 or 1)\n",
        "    accuracy = accuracy_score(y_test, yhat)\n",
        "    print('Accuracy: %.4f' % (accuracy))"
      ],
      "metadata": {
        "id": "9KxkhxpsHoYQ"
      },
      "execution_count": null,
      "outputs": []
    },
    {
      "cell_type": "code",
      "source": [
        "# create stacked model input dataset as outputs from the ensemble\n",
        "from numpy import dstack\n",
        "def stacked_dataset(members, inputX):\n",
        "    stackX = None\n",
        "    for model in members:\n",
        "        # make prediction\n",
        "        yhat = model.predict(inputX, verbose=0)\n",
        "        # stack predictions into [rows, members, probabilities]\n",
        "        if stackX is None:\n",
        "            stackX = yhat\n",
        "        else:\n",
        "            stackX = dstack((stackX, yhat))\n",
        "    # flatten predictions to [rows, members]\n",
        "    stackX = stackX.reshape((stackX.shape[0], stackX.shape[1] * stackX.shape[2]))\n",
        "    return stackX"
      ],
      "metadata": {
        "id": "4efrVQz5JYqt"
      },
      "execution_count": null,
      "outputs": []
    },
    {
      "cell_type": "code",
      "source": [
        "# fit a model based on the outputs from the ensemble members\n",
        "def fit_stacked_model(members, inputX, inputy):\n",
        "    # create dataset using ensemble\n",
        "    stackedX = stacked_dataset(members, inputX)\n",
        "    # fit standalone model\n",
        "    model = LogisticRegression()\n",
        "    model.fit(stackedX, inputy)\n",
        "    return model"
      ],
      "metadata": {
        "id": "AxcdhFSZJe4P"
      },
      "execution_count": null,
      "outputs": []
    },
    {
      "cell_type": "code",
      "source": [
        "# fit stacked model using the ensemble\n",
        "model = fit_stacked_model(members, X_test, y_test)"
      ],
      "metadata": {
        "id": "79obcuLxJh1Z"
      },
      "execution_count": null,
      "outputs": []
    },
    {
      "cell_type": "code",
      "source": [
        "# make a prediction with the stacked model\n",
        "def stacked_prediction(members, model, inputX):\n",
        "    # create dataset using ensemble\n",
        "    stackedX = stacked_dataset(members, inputX)\n",
        "    # make a prediction\n",
        "    yhat = model.predict(stackedX)\n",
        "    return yhat"
      ],
      "metadata": {
        "id": "bz3aISx2JkAa"
      },
      "execution_count": null,
      "outputs": []
    },
    {
      "cell_type": "code",
      "source": [
        "yhat = stacked_prediction(members, model, X_test)\n",
        "accuracy = accuracy_score(y_test, yhat)\n",
        "print('Accuracy: %.4f' % (accuracy))"
      ],
      "metadata": {
        "id": "eGS715B_Jpcu"
      },
      "execution_count": null,
      "outputs": []
    },
    {
      "cell_type": "code",
      "source": [
        "clf_name.append('LinearKerasEnsemble')\n",
        "clf_acc.append(accuracy)"
      ],
      "metadata": {
        "id": "uGQjLcXXJtbg"
      },
      "execution_count": null,
      "outputs": []
    },
    {
      "cell_type": "code",
      "source": [
        "df = pd.DataFrame({'Classificators':clf_name, 'Accuracy':clf_acc})\n",
        "ax = df.plot.bar(x='Classificators', y='Accuracy', rot=45)"
      ],
      "metadata": {
        "id": "rgsikuE_JzdX"
      },
      "execution_count": null,
      "outputs": []
    },
    {
      "cell_type": "code",
      "source": [
        "pd.options.display.float_format = '{:.4f}'.format\n",
        "df"
      ],
      "metadata": {
        "id": "E3NCa4PCJ10p"
      },
      "execution_count": null,
      "outputs": []
    },
    {
      "cell_type": "code",
      "source": [],
      "metadata": {
        "id": "Zd4NU-HmJ37-"
      },
      "execution_count": null,
      "outputs": []
    }
  ]
}