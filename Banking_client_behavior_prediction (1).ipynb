{
  "nbformat": 4,
  "nbformat_minor": 0,
  "metadata": {
    "colab": {
      "provenance": []
    },
    "kernelspec": {
      "name": "python3",
      "display_name": "Python 3"
    },
    "language_info": {
      "name": "python"
    }
  },
  "cells": [
    {
      "cell_type": "markdown",
      "source": [
        "#### URL for the dataset"
      ],
      "metadata": {
        "id": "ot6W_0_BXXOb"
      }
    },
    {
      "cell_type": "code",
      "execution_count": 24,
      "metadata": {
        "colab": {
          "base_uri": "https://localhost:8080/"
        },
        "id": "N_AygkBoU7H7",
        "outputId": "8cfc3f62-7f2a-4007-b40e-9465dfd20ced"
      },
      "outputs": [
        {
          "output_type": "stream",
          "name": "stdout",
          "text": [
            "--2025-04-12 11:24:02--  https://cf-courses-data.s3.us.cloud-object-storage.appdomain.cloud/VDA_Banking_L2/bank-additional.zip\n",
            "Resolving cf-courses-data.s3.us.cloud-object-storage.appdomain.cloud (cf-courses-data.s3.us.cloud-object-storage.appdomain.cloud)... 169.63.118.104\n",
            "Connecting to cf-courses-data.s3.us.cloud-object-storage.appdomain.cloud (cf-courses-data.s3.us.cloud-object-storage.appdomain.cloud)|169.63.118.104|:443... connected.\n",
            "HTTP request sent, awaiting response... 200 OK\n",
            "Length: 444572 (434K) [application/zip]\n",
            "Saving to: ‘bank-additional.zip.1’\n",
            "\n",
            "bank-additional.zip 100%[===================>] 434.15K  --.-KB/s    in 0.07s   \n",
            "\n",
            "2025-04-12 11:24:03 (6.48 MB/s) - ‘bank-additional.zip.1’ saved [444572/444572]\n",
            "\n"
          ]
        }
      ],
      "source": [
        "!wget https://cf-courses-data.s3.us.cloud-object-storage.appdomain.cloud/VDA_Banking_L2/bank-additional.zip"
      ]
    },
    {
      "cell_type": "markdown",
      "source": [
        "#### Unzipping to a folder. It is a good idea to apply the -o and -q when unzipping to quiet the process and overwrite any existing folders."
      ],
      "metadata": {
        "id": "OUwMVGdDXbgV"
      }
    },
    {
      "cell_type": "code",
      "source": [
        "!unzip -o -q bank-additional.zip"
      ],
      "metadata": {
        "id": "23DwWOe-U788"
      },
      "execution_count": 25,
      "outputs": []
    },
    {
      "cell_type": "markdown",
      "source": [
        "### Import the libraries necessary to use"
      ],
      "metadata": {
        "id": "5Fwpty1dXssm"
      }
    },
    {
      "cell_type": "code",
      "source": [
        "import pandas as pd\n",
        "import matplotlib.pyplot as plt\n",
        "import seaborn as sns\n",
        "import numpy as np\n",
        "%matplotlib inline\n",
        "plt.rcParams[\"figure.figsize\"] = (8, 6)\n",
        "# Data transformation\n",
        "from sklearn.preprocessing import LabelEncoder, OrdinalEncoder\n",
        "from sklearn.preprocessing import MinMaxScaler\n",
        "# Features Selection\n",
        "from sklearn.feature_selection import SelectKBest\n",
        "from sklearn.feature_selection import chi2, mutual_info_classif\n",
        "# warnings deactivate\n",
        "import warnings\n",
        "warnings.filterwarnings('ignore')"
      ],
      "metadata": {
        "id": "cWA6mxaFVDy5"
      },
      "execution_count": 26,
      "outputs": []
    },
    {
      "cell_type": "markdown",
      "source": [
        "#### precision parameter equal to 2 to display two decimal signs (instead of 6 as default)."
      ],
      "metadata": {
        "id": "DcbpWXhkYAxY"
      }
    },
    {
      "source": [
        "pd.set_option(\"display.precision\", 2)\n",
        "pd.options.display.float_format = '{:.2f}'.format"
      ],
      "cell_type": "code",
      "metadata": {
        "id": "7FmDDoxWVaaM"
      },
      "execution_count": 27,
      "outputs": []
    },
    {
      "cell_type": "markdown",
      "source": [
        "### DataSet preparation"
      ],
      "metadata": {
        "id": "rFVjkPAlYJA9"
      }
    },
    {
      "cell_type": "code",
      "source": [
        "df = pd.read_csv('bank-additional/bank-additional-full.csv', sep = ';')\n",
        "# Transform to categorical data\n",
        "col_cat = list(df.select_dtypes(include=['object']).columns)\n",
        "df.loc[:, col_cat] = df[col_cat].astype('category')\n",
        "# Create DataSets\n",
        "X = df.iloc[:,:-1]  #input columns\n",
        "y = df.iloc[:,-1]    #target column\n",
        "# Encoding\n",
        "col_cat.pop()\n",
        "oe = OrdinalEncoder()\n",
        "oe.fit(X[col_cat])\n",
        "X_cat_enc = oe.transform(X[col_cat])\n",
        "X_cat_enc = pd.DataFrame(X_cat_enc)\n",
        "X_cat_enc.columns = col_cat\n",
        "# Normalization\n",
        "col_num = list(df.select_dtypes(include =['int64', 'float64']).columns)\n",
        "scaler = MinMaxScaler(feature_range=(0, 1))\n",
        "X_num_enc = scaler.fit_transform(X[col_num])\n",
        "X_num_enc = pd.DataFrame(X_num_enc)\n",
        "X_num_enc.columns = col_num\n",
        "x_enc = pd.concat([X_cat_enc, X_num_enc], axis=1)\n",
        "# Encoding target\n",
        "le = LabelEncoder()\n",
        "le.fit(y)\n",
        "y_enc = le.transform(y)\n",
        "y_enc = pd.Series(y_enc)\n",
        "y_enc.columns = y.name\n",
        "# Remove correlated fields\n",
        "col = list(x_enc.columns)\n",
        "col.remove('emp.var.rate')\n",
        "col.remove('nr.employed')\n",
        "x_enc = x_enc[col]\n",
        "# Feature selection\n",
        "bestfeatures = SelectKBest(score_func=chi2, k=10)\n",
        "fit = bestfeatures.fit(x_enc,y_enc)\n",
        "dfscores = pd.DataFrame(fit.scores_)\n",
        "dfcolumns = pd.DataFrame(x_enc.columns)\n",
        "featureScores = pd.concat([dfcolumns, dfscores],axis=1)\n",
        "featureScores.columns = ['Specs','Score']  #naming the dataframe columns\n",
        "x_enc = x_enc[list(featureScores.nlargest(10,'Score')['Specs'])]\n",
        "print(x_enc)\n",
        "print(y_enc)"
      ],
      "metadata": {
        "colab": {
          "base_uri": "https://localhost:8080/"
        },
        "id": "7dHRseUmVUY3",
        "outputId": "2cbd0666-5a32-4cac-8b36-77440d58096a"
      },
      "execution_count": 28,
      "outputs": [
        {
          "output_type": "stream",
          "name": "stdout",
          "text": [
            "       euribor3m  contact  previous  duration  default  education  pdays  \\\n",
            "0           0.96     1.00      0.00      0.05     0.00       0.00   1.00   \n",
            "1           0.96     1.00      0.00      0.03     1.00       3.00   1.00   \n",
            "2           0.96     1.00      0.00      0.05     0.00       3.00   1.00   \n",
            "3           0.96     1.00      0.00      0.03     0.00       1.00   1.00   \n",
            "4           0.96     1.00      0.00      0.06     0.00       3.00   1.00   \n",
            "...          ...      ...       ...       ...      ...        ...    ...   \n",
            "41183       0.09     0.00      0.00      0.07     0.00       5.00   1.00   \n",
            "41184       0.09     0.00      0.00      0.08     0.00       5.00   1.00   \n",
            "41185       0.09     0.00      0.00      0.04     0.00       6.00   1.00   \n",
            "41186       0.09     0.00      0.00      0.09     0.00       5.00   1.00   \n",
            "41187       0.09     0.00      0.14      0.05     0.00       5.00   1.00   \n",
            "\n",
            "       poutcome  job  cons.price.idx  \n",
            "0          1.00 3.00            0.70  \n",
            "1          1.00 7.00            0.70  \n",
            "2          1.00 7.00            0.70  \n",
            "3          1.00 0.00            0.70  \n",
            "4          1.00 7.00            0.70  \n",
            "...         ...  ...             ...  \n",
            "41183      1.00 5.00            1.00  \n",
            "41184      1.00 1.00            1.00  \n",
            "41185      1.00 5.00            1.00  \n",
            "41186      1.00 9.00            1.00  \n",
            "41187      0.00 5.00            1.00  \n",
            "\n",
            "[41188 rows x 10 columns]\n",
            "0        0\n",
            "1        0\n",
            "2        0\n",
            "3        0\n",
            "4        0\n",
            "        ..\n",
            "41183    1\n",
            "41184    0\n",
            "41185    0\n",
            "41186    1\n",
            "41187    0\n",
            "Length: 41188, dtype: int64\n"
          ]
        }
      ]
    },
    {
      "cell_type": "markdown",
      "source": [
        "### Classical classification models\n",
        "\n"
      ],
      "metadata": {
        "id": "FeE6N3AXrcOP"
      }
    },
    {
      "cell_type": "code",
      "source": [
        "#Classifiers\n",
        "from sklearn.linear_model import LogisticRegression\n",
        "from sklearn.ensemble import RandomForestClassifier, AdaBoostClassifier\n",
        "from sklearn.naive_bayes import GaussianNB\n",
        "from sklearn.discriminant_analysis import QuadraticDiscriminantAnalysis\n",
        "from sklearn.model_selection import cross_val_score\n",
        "from sklearn.ensemble import VotingClassifier\n",
        "from sklearn.model_selection import train_test_split\n",
        "from sklearn.metrics import confusion_matrix"
      ],
      "metadata": {
        "id": "8aQP61qfVm94"
      },
      "execution_count": 29,
      "outputs": []
    },
    {
      "cell_type": "code",
      "source": [
        "''' cross-validation combines (averages) measures of fitness in prediction to derive a more accurate estimate of model prediction performance'''\n",
        "clf = LogisticRegression()\n",
        "scores = cross_val_score(clf, x_enc, y_enc, scoring='accuracy', cv=5)\n",
        "print(\"Accuracy: %0.2f (+/- %0.2f) [%s]\" % (scores.mean(), scores.std(), 'Logistic Regression'))"
      ],
      "metadata": {
        "colab": {
          "base_uri": "https://localhost:8080/"
        },
        "id": "byg7s2GRsGJq",
        "outputId": "80ac2a8e-f544-4365-94a2-8c86580758cc"
      },
      "execution_count": 30,
      "outputs": [
        {
          "output_type": "stream",
          "name": "stdout",
          "text": [
            "Accuracy: 0.87 (+/- 0.06) [Logistic Regression]\n"
          ]
        }
      ]
    },
    {
      "cell_type": "code",
      "source": [
        "clf_name = ['Logistic Regression']\n",
        "clf_acc = [scores.mean()]"
      ],
      "metadata": {
        "id": "u6ccIfdTsua-"
      },
      "execution_count": 31,
      "outputs": []
    },
    {
      "cell_type": "markdown",
      "source": [
        "As you can see, accuracy is not bad.\n",
        "\n",
        "Let's try to use another classificators and compare thair accuracy."
      ],
      "metadata": {
        "id": "HwyTW_1Ms5oE"
      }
    },
    {
      "cell_type": "code",
      "source": [
        "clf1 = LogisticRegression(random_state=1)\n",
        "clf2 = QuadraticDiscriminantAnalysis()\n",
        "clf3 = GaussianNB()\n",
        "clf4 = RandomForestClassifier(max_depth=5, n_estimators=10, max_features=1)\n",
        "clf5 = AdaBoostClassifier()\n",
        "\n",
        "for clf, label in zip([clf1, clf2, clf3, clf4, clf5], ['Logistic Regression', 'Quadratic Discriminant Analysis', 'naive Bayes', 'Random Forest', 'Ada Boost']):\n",
        "     scores = cross_val_score(clf, x_enc, y_enc, scoring='accuracy', cv=5)\n",
        "     print(\"Accuracy: %0.2f (+/- %0.2f) [%s]\" % (scores.mean(), scores.std(), label))"
      ],
      "metadata": {
        "colab": {
          "base_uri": "https://localhost:8080/"
        },
        "id": "V3QpdbRDsxIJ",
        "outputId": "7f638f71-7596-41db-eb41-a0315928b521"
      },
      "execution_count": 32,
      "outputs": [
        {
          "output_type": "stream",
          "name": "stdout",
          "text": [
            "Accuracy: 0.87 (+/- 0.06) [Logistic Regression]\n",
            "Accuracy: 0.83 (+/- 0.13) [Quadratic Discriminant Analysis]\n",
            "Accuracy: 0.80 (+/- 0.15) [naive Bayes]\n",
            "Accuracy: 0.69 (+/- 0.28) [Random Forest]\n",
            "Accuracy: 0.67 (+/- 0.29) [Ada Boost]\n"
          ]
        }
      ]
    },
    {
      "cell_type": "markdown",
      "source": [
        "### Ensemble of classical classification models"
      ],
      "metadata": {
        "id": "oD9cN_CRtGJH"
      }
    },
    {
      "cell_type": "markdown",
      "source": [
        "Voting Classifier is a machine learning model that trains on an ensemble of numerous models and predicts an output (class) based on their highest probability of chosen class as the output.\n",
        "\n",
        "Hard Voting: In hard voting, the predicted output class is a class with the highest majority of votes.\n",
        "\n",
        "Soft Voting: In soft voting, the output class is the prediction based on the average of probability given to that class."
      ],
      "metadata": {
        "id": "0NEDNcE_styj"
      }
    },
    {
      "cell_type": "code",
      "source": [
        "eclf = VotingClassifier(\n",
        "     estimators=[('lr', clf1), ('rf', clf2), ('gnb', clf3), ('rfc', clf4), ('abc', clf5)],\n",
        "     voting='hard')\n",
        "scores = cross_val_score(eclf, x_enc, y_enc, scoring='accuracy', cv=5)\n",
        "print(\"Accuracy: %0.2f (+/- %0.2f) [%s]\" % (scores.mean(), scores.std(), 'Hard Voiting Ensemble'))"
      ],
      "metadata": {
        "colab": {
          "base_uri": "https://localhost:8080/"
        },
        "id": "yTzv-a8Us-gR",
        "outputId": "4a3c2d11-c0f7-4bab-fb4f-815a31a74a7f"
      },
      "execution_count": 33,
      "outputs": [
        {
          "output_type": "stream",
          "name": "stdout",
          "text": [
            "Accuracy: 0.81 (+/- 0.15) [Hard Voiting Ensemble]\n"
          ]
        }
      ]
    },
    {
      "cell_type": "code",
      "source": [
        "clf_name.append('Hard Voiting Ensemble')\n",
        "clf_acc.append(scores.mean())"
      ],
      "metadata": {
        "id": "2I-trzkztQtt"
      },
      "execution_count": 34,
      "outputs": []
    },
    {
      "cell_type": "code",
      "source": [
        "eclf = VotingClassifier(estimators=[('lr', clf1), ('rf', clf2), ('gnb', clf3), ('rfc', clf4), ('abc', clf5)],\n",
        "     voting='soft', weights=[0.87, 0.83, 0.80, 0.74, 0.61 ])\n",
        "\n",
        "scores = cross_val_score(eclf, x_enc, y_enc, scoring='accuracy', cv=5)\n",
        "print(\"Accuracy: %0.2f (+/- %0.2f) [%s]\" % (scores.mean(), scores.std(), 'Soft Voiting Ensemble'))"
      ],
      "metadata": {
        "colab": {
          "base_uri": "https://localhost:8080/"
        },
        "id": "Tkf6yVxHtTHh",
        "outputId": "97da33a8-d156-4450-9cfb-ed2c97c880e1"
      },
      "execution_count": 35,
      "outputs": [
        {
          "output_type": "stream",
          "name": "stdout",
          "text": [
            "Accuracy: 0.82 (+/- 0.16) [Soft Voiting Ensemble]\n"
          ]
        }
      ]
    },
    {
      "cell_type": "code",
      "source": [
        "clf_name.append('Soft Voiting Ensemble')\n",
        "clf_acc.append(scores.mean())"
      ],
      "metadata": {
        "id": "MK4bOUi4tWNT"
      },
      "execution_count": 36,
      "outputs": []
    },
    {
      "cell_type": "markdown",
      "source": [
        "### Analysis of errors"
      ],
      "metadata": {
        "id": "EfXpO0y4uwNf"
      }
    },
    {
      "cell_type": "code",
      "source": [
        "X_train, X_test, y_train, y_test = train_test_split(x_enc, y_enc, test_size=0.33, random_state=1)\n",
        "eclf.fit(X_train, y_train)\n",
        "yhat = eclf.predict(X_test)"
      ],
      "metadata": {
        "id": "5-lbNyshur3U"
      },
      "execution_count": 37,
      "outputs": []
    },
    {
      "cell_type": "code",
      "source": [
        "scores_train = eclf.score(X_train, y_train)\n",
        "scores_test = eclf.score(X_test, y_test)\n",
        "print('Training DataSet accuracy: {: .1%}'.format(scores_train), 'Test DataSet accuracy: {: .1%}'.format(scores_test))\n",
        "y_pred = eclf.predict(X_test)  # Get model predictions\n",
        "cm = confusion_matrix(y_test, y_pred)\n",
        "print(cm)\n",
        "plt.show()"
      ],
      "metadata": {
        "colab": {
          "base_uri": "https://localhost:8080/"
        },
        "id": "wjaaANUau2pw",
        "outputId": "c993ab6c-63d3-49e3-b975-9dc158854b96"
      },
      "execution_count": 38,
      "outputs": [
        {
          "output_type": "stream",
          "name": "stdout",
          "text": [
            "Training DataSet accuracy:  89.8% Test DataSet accuracy:  89.9%\n",
            "[[11621   428]\n",
            " [  943   601]]\n"
          ]
        }
      ]
    },
    {
      "cell_type": "markdown",
      "source": [
        "### Classification with Keras"
      ],
      "metadata": {
        "id": "4OC98y-Bv7hn"
      }
    },
    {
      "cell_type": "markdown",
      "source": [
        "Input Layer: This is where the training observations are fed. The number of predictor variables is also specified here through the neurons.\n",
        "\n",
        "Hidden Layers: These are the intermediate layers between the input and output layers. The deep neural network learns about the relationships involved in data in this component.In our cases hidden layer will have 20 neurons.\n",
        "\n",
        "Output Layer: This is the layer where the final output is extracted from what’s happening in the previous two layers. In case of classification problems, the output layer will have two neuron because 2 classes."
      ],
      "metadata": {
        "id": "9u9IKSaDtbTP"
      }
    },
    {
      "source": [
        "!pip install scikeras\n",
        "from keras.models import Sequential\n",
        "from keras.layers import Dense\n",
        "from scikeras.wrappers import KerasClassifier\n",
        "from tensorflow.keras.utils import to_categorical\n",
        "\n",
        "# define baseline model\n",
        "def baseline_model():\n",
        "    # create model\n",
        "    model = Sequential()\n",
        "    model.add(Dense(20, input_dim=10, activation='relu'))\n",
        "    model.add(Dense(2, activation='softmax'))  # Output layer with 2 units for 2 classes\n",
        "    # Compile model\n",
        "    model.compile(loss='categorical_crossentropy', optimizer='adam', metrics=['accuracy'])\n",
        "    return model\n",
        "\n",
        "\n"
      ],
      "cell_type": "code",
      "metadata": {
        "colab": {
          "base_uri": "https://localhost:8080/"
        },
        "id": "zU4c0YiyE26w",
        "outputId": "ff3aac10-4dab-45c0-92a3-3c4a3fbc2989"
      },
      "execution_count": 39,
      "outputs": [
        {
          "output_type": "stream",
          "name": "stdout",
          "text": [
            "Requirement already satisfied: scikeras in /usr/local/lib/python3.11/dist-packages (0.13.0)\n",
            "Requirement already satisfied: keras>=3.2.0 in /usr/local/lib/python3.11/dist-packages (from scikeras) (3.8.0)\n",
            "Requirement already satisfied: scikit-learn>=1.4.2 in /usr/local/lib/python3.11/dist-packages (from scikeras) (1.6.1)\n",
            "Requirement already satisfied: absl-py in /usr/local/lib/python3.11/dist-packages (from keras>=3.2.0->scikeras) (1.4.0)\n",
            "Requirement already satisfied: numpy in /usr/local/lib/python3.11/dist-packages (from keras>=3.2.0->scikeras) (2.0.2)\n",
            "Requirement already satisfied: rich in /usr/local/lib/python3.11/dist-packages (from keras>=3.2.0->scikeras) (13.9.4)\n",
            "Requirement already satisfied: namex in /usr/local/lib/python3.11/dist-packages (from keras>=3.2.0->scikeras) (0.0.8)\n",
            "Requirement already satisfied: h5py in /usr/local/lib/python3.11/dist-packages (from keras>=3.2.0->scikeras) (3.13.0)\n",
            "Requirement already satisfied: optree in /usr/local/lib/python3.11/dist-packages (from keras>=3.2.0->scikeras) (0.14.1)\n",
            "Requirement already satisfied: ml-dtypes in /usr/local/lib/python3.11/dist-packages (from keras>=3.2.0->scikeras) (0.4.1)\n",
            "Requirement already satisfied: packaging in /usr/local/lib/python3.11/dist-packages (from keras>=3.2.0->scikeras) (24.2)\n",
            "Requirement already satisfied: scipy>=1.6.0 in /usr/local/lib/python3.11/dist-packages (from scikit-learn>=1.4.2->scikeras) (1.14.1)\n",
            "Requirement already satisfied: joblib>=1.2.0 in /usr/local/lib/python3.11/dist-packages (from scikit-learn>=1.4.2->scikeras) (1.4.2)\n",
            "Requirement already satisfied: threadpoolctl>=3.1.0 in /usr/local/lib/python3.11/dist-packages (from scikit-learn>=1.4.2->scikeras) (3.6.0)\n",
            "Requirement already satisfied: typing-extensions>=4.5.0 in /usr/local/lib/python3.11/dist-packages (from optree->keras>=3.2.0->scikeras) (4.13.1)\n",
            "Requirement already satisfied: markdown-it-py>=2.2.0 in /usr/local/lib/python3.11/dist-packages (from rich->keras>=3.2.0->scikeras) (3.0.0)\n",
            "Requirement already satisfied: pygments<3.0.0,>=2.13.0 in /usr/local/lib/python3.11/dist-packages (from rich->keras>=3.2.0->scikeras) (2.18.0)\n",
            "Requirement already satisfied: mdurl~=0.1 in /usr/local/lib/python3.11/dist-packages (from markdown-it-py>=2.2.0->rich->keras>=3.2.0->scikeras) (0.1.2)\n"
          ]
        }
      ]
    },
    {
      "source": [
        "estimator = KerasClassifier(build_fn=baseline_model, epochs=10, batch_size=5, verbose=1)\n",
        "# Convert y_train to one-hot encoding using to_categorical\n",
        "history = estimator.fit(X_train, to_categorical(y_train))"
      ],
      "cell_type": "code",
      "metadata": {
        "colab": {
          "base_uri": "https://localhost:8080/"
        },
        "id": "yKCYHxmYEVBk",
        "outputId": "a4b9c194-b997-4979-f56a-99b395a96974"
      },
      "execution_count": 40,
      "outputs": [
        {
          "output_type": "stream",
          "name": "stdout",
          "text": [
            "Epoch 1/10\n",
            "\u001b[1m5519/5519\u001b[0m \u001b[32m━━━━━━━━━━━━━━━━━━━━\u001b[0m\u001b[37m\u001b[0m \u001b[1m44s\u001b[0m 8ms/step - accuracy: 0.8921 - loss: 0.3032\n",
            "Epoch 2/10\n",
            "\u001b[1m5519/5519\u001b[0m \u001b[32m━━━━━━━━━━━━━━━━━━━━\u001b[0m\u001b[37m\u001b[0m \u001b[1m53s\u001b[0m 2ms/step - accuracy: 0.9074 - loss: 0.2296\n",
            "Epoch 3/10\n",
            "\u001b[1m5519/5519\u001b[0m \u001b[32m━━━━━━━━━━━━━━━━━━━━\u001b[0m\u001b[37m\u001b[0m \u001b[1m20s\u001b[0m 2ms/step - accuracy: 0.9108 - loss: 0.2203\n",
            "Epoch 4/10\n",
            "\u001b[1m5519/5519\u001b[0m \u001b[32m━━━━━━━━━━━━━━━━━━━━\u001b[0m\u001b[37m\u001b[0m \u001b[1m23s\u001b[0m 3ms/step - accuracy: 0.9082 - loss: 0.2188\n",
            "Epoch 5/10\n",
            "\u001b[1m5519/5519\u001b[0m \u001b[32m━━━━━━━━━━━━━━━━━━━━\u001b[0m\u001b[37m\u001b[0m \u001b[1m13s\u001b[0m 2ms/step - accuracy: 0.9088 - loss: 0.2157\n",
            "Epoch 6/10\n",
            "\u001b[1m5519/5519\u001b[0m \u001b[32m━━━━━━━━━━━━━━━━━━━━\u001b[0m\u001b[37m\u001b[0m \u001b[1m14s\u001b[0m 3ms/step - accuracy: 0.9095 - loss: 0.2104\n",
            "Epoch 7/10\n",
            "\u001b[1m5519/5519\u001b[0m \u001b[32m━━━━━━━━━━━━━━━━━━━━\u001b[0m\u001b[37m\u001b[0m \u001b[1m19s\u001b[0m 2ms/step - accuracy: 0.9067 - loss: 0.2115\n",
            "Epoch 8/10\n",
            "\u001b[1m5519/5519\u001b[0m \u001b[32m━━━━━━━━━━━━━━━━━━━━\u001b[0m\u001b[37m\u001b[0m \u001b[1m12s\u001b[0m 2ms/step - accuracy: 0.9064 - loss: 0.2121\n",
            "Epoch 9/10\n",
            "\u001b[1m5519/5519\u001b[0m \u001b[32m━━━━━━━━━━━━━━━━━━━━\u001b[0m\u001b[37m\u001b[0m \u001b[1m21s\u001b[0m 2ms/step - accuracy: 0.9052 - loss: 0.2119\n",
            "Epoch 10/10\n",
            "\u001b[1m5519/5519\u001b[0m \u001b[32m━━━━━━━━━━━━━━━━━━━━\u001b[0m\u001b[37m\u001b[0m \u001b[1m21s\u001b[0m 2ms/step - accuracy: 0.9063 - loss: 0.2082\n"
          ]
        }
      ]
    },
    {
      "cell_type": "code",
      "source": [
        "acc = estimator.history_['accuracy']\n",
        "loss = estimator.history_['loss']\n",
        "\n",
        "epochs_range = range(10)\n",
        "\n",
        "plt.figure(figsize=(15, 15))\n",
        "plt.subplot(2, 2, 1)\n",
        "plt.plot(epochs_range, acc, label='Training Accuracy')\n",
        "plt.legend(loc='lower right')\n",
        "plt.title('Training Accuracy')\n",
        "\n",
        "plt.subplot(2, 2, 2)\n",
        "plt.plot(epochs_range, loss, label='Training Loss')\n",
        "plt.legend(loc='upper right')\n",
        "plt.title('Training Loss')\n",
        "plt.show()"
      ],
      "metadata": {
        "colab": {
          "base_uri": "https://localhost:8080/",
          "height": 608
        },
        "id": "GiCZII5tELOV",
        "outputId": "32b31f35-7d04-428e-b2a3-f61849f2fc59"
      },
      "execution_count": 41,
      "outputs": [
        {
          "output_type": "display_data",
          "data": {
            "text/plain": [
              "<Figure size 1500x1500 with 2 Axes>"
            ],
            "image/png": "[encoded data removed]"
          },
          "metadata": {}
        }
      ]
    },
    {
      "cell_type": "code",
      "source": [
        "from sklearn.metrics import accuracy_score"
      ],
      "metadata": {
        "id": "hR3kzX2_FAkf"
      },
      "execution_count": 42,
      "outputs": []
    },
    {
      "source": [
        "yhat = estimator.predict(X_test)\n",
        "# Convert yhat to binary labels\n",
        "yhat = np.argmax(yhat, axis=1) # Get the index of the highest probability\n",
        "accuracy = accuracy_score(y_test, yhat)\n",
        "print('Accuracy: %.2f' % (accuracy))"
      ],
      "cell_type": "code",
      "metadata": {
        "colab": {
          "base_uri": "https://localhost:8080/"
        },
        "id": "Wto4N-o9F8pe",
        "outputId": "ed00b578-89de-44f4-8848-7df9219b9822"
      },
      "execution_count": 43,
      "outputs": [
        {
          "output_type": "stream",
          "name": "stdout",
          "text": [
            "\u001b[1m2719/2719\u001b[0m \u001b[32m━━━━━━━━━━━━━━━━━━━━\u001b[0m\u001b[37m\u001b[0m \u001b[1m7s\u001b[0m 2ms/step\n",
            "Accuracy: 0.91\n"
          ]
        }
      ]
    },
    {
      "cell_type": "code",
      "source": [
        "clf_name.append('KerasClassifier')\n",
        "clf_acc.append(accuracy)"
      ],
      "metadata": {
        "id": "7RMeAPBnGJ4U"
      },
      "execution_count": 44,
      "outputs": []
    }
  ]
}